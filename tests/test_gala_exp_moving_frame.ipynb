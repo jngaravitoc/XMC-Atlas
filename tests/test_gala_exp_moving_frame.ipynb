{
 "cells": [
  {
   "cell_type": "code",
   "execution_count": 1,
   "id": "a7962bf4-043e-4d75-89ff-131a5264743c",
   "metadata": {
    "execution": {
     "iopub.execute_input": "2025-10-17T17:53:51.763646Z",
     "iopub.status.busy": "2025-10-17T17:53:51.763110Z",
     "iopub.status.idle": "2025-10-17T17:53:53.292172Z",
     "shell.execute_reply": "2025-10-17T17:53:53.291502Z",
     "shell.execute_reply.started": "2025-10-17T17:53:51.763599Z"
    }
   },
   "outputs": [],
   "source": [
    "%matplotlib inline\n",
    "import numpy as np\n",
    "import matplotlib.pyplot as plt\n",
    "import astropy.units as u\n",
    "import pyEXP\n",
    "import gala.potential as gp\n",
    "from gala.units import SimulationUnitSystem, galactic\n",
    "import gala.dynamics as gd\n",
    "import h5py"
   ]
  },
  {
   "cell_type": "code",
   "execution_count": 2,
   "id": "955532b9-929c-43d5-abd9-0f0c4ed50f97",
   "metadata": {
    "execution": {
     "iopub.execute_input": "2025-10-17T17:53:53.293422Z",
     "iopub.status.busy": "2025-10-17T17:53:53.293037Z",
     "iopub.status.idle": "2025-10-17T17:53:53.297263Z",
     "shell.execute_reply": "2025-10-17T17:53:53.296696Z",
     "shell.execute_reply.started": "2025-10-17T17:53:53.293399Z"
    }
   },
   "outputs": [],
   "source": [
    "exp_units = SimulationUnitSystem(mass=1e10 * u.Msun, length=1 * u.kpc, G=1)"
   ]
  },
  {
   "cell_type": "code",
   "execution_count": 3,
   "id": "a3011b8c-4c8e-42d3-9e34-f4b811cf4a5b",
   "metadata": {
    "execution": {
     "iopub.execute_input": "2025-10-17T17:53:53.500453Z",
     "iopub.status.busy": "2025-10-17T17:53:53.499926Z",
     "iopub.status.idle": "2025-10-17T17:53:53.506121Z",
     "shell.execute_reply": "2025-10-17T17:53:53.504743Z",
     "shell.execute_reply.started": "2025-10-17T17:53:53.500410Z"
    }
   },
   "outputs": [],
   "source": [
    "coefs_files = ['coefs_GC21_MW_DM_halo_10_8.h5', 'moving_coefs_GC21_MW_DM_halo_10_8.h5']"
   ]
  },
  {
   "cell_type": "code",
   "execution_count": 4,
   "id": "b870007b-f0bc-405a-9200-96cfb19354e2",
   "metadata": {
    "execution": {
     "iopub.execute_input": "2025-10-17T17:53:53.854831Z",
     "iopub.status.busy": "2025-10-17T17:53:53.854306Z",
     "iopub.status.idle": "2025-10-17T17:53:53.960681Z",
     "shell.execute_reply": "2025-10-17T17:53:53.959903Z",
     "shell.execute_reply.started": "2025-10-17T17:53:53.854788Z"
    }
   },
   "outputs": [],
   "source": [
    "centers = np.zeros((258, 2))\n",
    "j=0\n",
    "for coef in coefs_files:\n",
    "    cc = h5py.File(coef, mode='r+')\n",
    "    snaps = list(cc['snapshots'].keys())\n",
    "    i=0\n",
    "    for snap in snaps[:258]:\n",
    "        centers[i][j] = np.linalg.norm(cc['snapshots'][snap].attrs['Center'])\n",
    "        i+=1\n",
    "    j+=1\n",
    "    cc.close()"
   ]
  },
  {
   "cell_type": "code",
   "execution_count": 5,
   "id": "75d5c216-8b95-4077-b749-58fbac8d2bc5",
   "metadata": {
    "execution": {
     "iopub.execute_input": "2025-10-17T17:53:54.290369Z",
     "iopub.status.busy": "2025-10-17T17:53:54.289838Z",
     "iopub.status.idle": "2025-10-17T17:53:54.442759Z",
     "shell.execute_reply": "2025-10-17T17:53:54.442112Z",
     "shell.execute_reply.started": "2025-10-17T17:53:54.290326Z"
    }
   },
   "outputs": [
    {
     "data": {
      "text/plain": [
       "[<matplotlib.lines.Line2D at 0x76e1fe2e5cc0>]"
      ]
     },
     "execution_count": 5,
     "metadata": {},
     "output_type": "execute_result"
    },
    {
     "data": {
      "image/png": "[encoded data removed]",
      "text/plain": [
       "<Figure size 640x480 with 1 Axes>"
      ]
     },
     "metadata": {},
     "output_type": "display_data"
    }
   ],
   "source": [
    "plt.plot(centers[:,0])\n",
    "plt.plot(centers[:,1])"
   ]
  },
  {
   "cell_type": "code",
   "execution_count": 6,
   "id": "f4c98931-70fe-4006-91ce-e63198447bbb",
   "metadata": {
    "execution": {
     "iopub.execute_input": "2025-10-17T17:53:54.989945Z",
     "iopub.status.busy": "2025-10-17T17:53:54.989376Z",
     "iopub.status.idle": "2025-10-17T17:53:54.998262Z",
     "shell.execute_reply": "2025-10-17T17:53:54.996697Z",
     "shell.execute_reply.started": "2025-10-17T17:53:54.989894Z"
    }
   },
   "outputs": [],
   "source": [
    "def gala_MW_potential(coefficients):\n",
    "    MW_exp_pot = gp.EXPPotential(\n",
    "        units=exp_units,\n",
    "        config_file=\"./GC21_MW.yaml\",\n",
    "        coef_file = coefficients,\n",
    "        snapshot_time_unit=u.Gyr,\n",
    "        \n",
    "    )\n",
    "    MW_composite = gp.CCompositePotential()\n",
    "    MW_composite['halo'] = MW_exp_pot\n",
    "    MW_composite['disk'] = gp.MN3ExponentialDiskPotential(m=5.78e10*u.Msun, h_R=2.4*u.kpc, h_z=0.5*u.kpc, units=exp_units)\n",
    "    MW_composite['bulge'] = gp.HernquistPotential(m=1.4e10*u.Msun, c=0.7*u.kpc, units=exp_units)\n",
    "\n",
    "    return MW_composite"
   ]
  },
  {
   "cell_type": "code",
   "execution_count": 7,
   "id": "8a65d8e7-b4ae-4993-92b8-88f91724d5f6",
   "metadata": {
    "execution": {
     "iopub.execute_input": "2025-10-17T17:53:55.782409Z",
     "iopub.status.busy": "2025-10-17T17:53:55.781821Z",
     "iopub.status.idle": "2025-10-17T17:53:56.013183Z",
     "shell.execute_reply": "2025-10-17T17:53:56.012411Z",
     "shell.execute_reply.started": "2025-10-17T17:53:55.782361Z"
    }
   },
   "outputs": [
    {
     "name": "stdout",
     "output_type": "stream",
     "text": [
      "---- SLGridSph::ReadH5Cache: successfully read basis cache <cache_GC21_MW_DM_halo_10_8.h5>\n",
      "---- Spherical::orthoTest: worst=0.121785\n"
     ]
    }
   ],
   "source": [
    "MW_pot = gala_MW_potential('coefs_GC21_MW_DM_halo_10_8.h5')"
   ]
  },
  {
   "cell_type": "code",
   "execution_count": 8,
   "id": "28fcf0fc-75e2-497a-8e8e-db710722a2b5",
   "metadata": {
    "execution": {
     "iopub.execute_input": "2025-10-17T17:53:56.563023Z",
     "iopub.status.busy": "2025-10-17T17:53:56.562519Z",
     "iopub.status.idle": "2025-10-17T17:53:56.794539Z",
     "shell.execute_reply": "2025-10-17T17:53:56.793612Z",
     "shell.execute_reply.started": "2025-10-17T17:53:56.562983Z"
    }
   },
   "outputs": [
    {
     "name": "stdout",
     "output_type": "stream",
     "text": [
      "---- SLGridSph::ReadH5Cache: successfully read basis cache <cache_GC21_MW_DM_halo_10_8.h5>\n",
      "---- Spherical::orthoTest: worst=0.121785\n"
     ]
    }
   ],
   "source": [
    "moving_MW_pot = gala_MW_potential('moving_coefs_GC21_MW_DM_halo_10_8.h5')"
   ]
  },
  {
   "cell_type": "code",
   "execution_count": 9,
   "id": "c87d7bc0-a5a4-4852-8314-2ab50b15c7b9",
   "metadata": {
    "execution": {
     "iopub.execute_input": "2025-10-17T17:53:56.973482Z",
     "iopub.status.busy": "2025-10-17T17:53:56.972882Z",
     "iopub.status.idle": "2025-10-17T17:53:56.981506Z",
     "shell.execute_reply": "2025-10-17T17:53:56.980066Z",
     "shell.execute_reply.started": "2025-10-17T17:53:56.973418Z"
    }
   },
   "outputs": [],
   "source": [
    "sim_test_particle = np.loadtxt('test_MW_orbit.txt')\n",
    "sim_time = np.arange(0, len(sim_test_particle[:,0])*0.02, 0.02)"
   ]
  },
  {
   "cell_type": "code",
   "execution_count": 10,
   "id": "7d802eef-88f3-42d4-9fde-14f8cacb8ad8",
   "metadata": {
    "execution": {
     "iopub.execute_input": "2025-10-17T17:53:57.467822Z",
     "iopub.status.busy": "2025-10-17T17:53:57.467282Z",
     "iopub.status.idle": "2025-10-17T17:55:54.895908Z",
     "shell.execute_reply": "2025-10-17T17:55:54.895201Z",
     "shell.execute_reply.started": "2025-10-17T17:53:57.467778Z"
    }
   },
   "outputs": [],
   "source": [
    "w0 = gd.PhaseSpacePosition(\n",
    "    pos=[ -8.13596344,  68.09912872, -16.11926651] * u.kpc,\n",
    "    vel=[  6.75677538, -74.71125031, -93.4519577 ] * u.km / u.s,\n",
    ")\n",
    "orbit = gp.Hamiltonian(MW_pot).integrate_orbit(w0, dt=0.01 * u.Myr, t1=0*u.Gyr, t2=2.2*u.Gyr)"
   ]
  },
  {
   "cell_type": "code",
   "execution_count": 11,
   "id": "a5a9d692-0f02-4f1a-8c06-a3a2077b979e",
   "metadata": {
    "execution": {
     "iopub.execute_input": "2025-10-17T17:55:54.896959Z",
     "iopub.status.busy": "2025-10-17T17:55:54.896740Z",
     "iopub.status.idle": "2025-10-17T17:55:56.148281Z",
     "shell.execute_reply": "2025-10-17T17:55:56.147701Z",
     "shell.execute_reply.started": "2025-10-17T17:55:54.896934Z"
    }
   },
   "outputs": [],
   "source": [
    "com_mov_orbit = gp.Hamiltonian(moving_MW_pot).integrate_orbit(w0, dt=1 * u.Myr, t1=0*u.Gyr, t2=2.2*u.Gyr)"
   ]
  },
  {
   "cell_type": "code",
   "execution_count": 12,
   "id": "580d0682-4330-410f-9b1e-157561c0e3f6",
   "metadata": {
    "execution": {
     "iopub.execute_input": "2025-10-17T17:55:56.148991Z",
     "iopub.status.busy": "2025-10-17T17:55:56.148814Z",
     "iopub.status.idle": "2025-10-17T17:55:56.165464Z",
     "shell.execute_reply": "2025-10-17T17:55:56.164916Z",
     "shell.execute_reply.started": "2025-10-17T17:55:56.148974Z"
    }
   },
   "outputs": [],
   "source": [
    "orb_distance = np.linalg.norm(orbit.xyz.to(u.kpc).value, axis=0)\n",
    "orb_comp_distance = np.linalg.norm(com_mov_orbit.xyz.to(u.kpc).value, axis=0)\n",
    "orb_sim_distance = np.linalg.norm(sim_test_particle[:,:3], axis=1)\n",
    "\n",
    "orb_vel = np.linalg.norm(orbit.v_xyz.to(u.km/u.s).value, axis=0)\n",
    "orb_comp_vel = np.linalg.norm(com_mov_orbit.v_xyz.to(u.km/u.s).value, axis=0)\n",
    "orb_sim_vel = np.linalg.norm(sim_test_particle[:,3:], axis=1)"
   ]
  },
  {
   "cell_type": "code",
   "execution_count": 14,
   "id": "f0dce548-6dce-43d8-9099-16304a5d0e76",
   "metadata": {
    "execution": {
     "iopub.execute_input": "2025-10-17T17:56:12.184405Z",
     "iopub.status.busy": "2025-10-17T17:56:12.183831Z",
     "iopub.status.idle": "2025-10-17T17:56:12.194821Z",
     "shell.execute_reply": "2025-10-17T17:56:12.192992Z",
     "shell.execute_reply.started": "2025-10-17T17:56:12.184359Z"
    }
   },
   "outputs": [
    {
     "ename": "SyntaxError",
     "evalue": "keyword argument repeated: ls (1799952096.py, line 1)",
     "output_type": "error",
     "traceback": [
      "\u001b[0;36m  Cell \u001b[0;32mIn[14], line 1\u001b[0;36m\u001b[0m\n\u001b[0;31m    plt.plot(orbit.t.to(u.Gyr), orb_distance, ls=':', ls=2, label='Gala without movig frame')\u001b[0m\n\u001b[0m                                                      ^\u001b[0m\n\u001b[0;31mSyntaxError\u001b[0m\u001b[0;31m:\u001b[0m keyword argument repeated: ls\n"
     ]
    }
   ],
   "source": [
    "plt.plot(orbit.t.to(u.Gyr), orb_distance, ls=':', ls=2, label='Gala without movig frame')\n",
    "plt.plot(com_mov_orbit.t.to(u.Gyr), orb_comp_distance, ls='-', c='C0', label='Gala moving frame')\n",
    "plt.plot(sim_time, orb_sim_distance, c='k', label='Gadget')"
   ]
  },
  {
   "cell_type": "code",
   "execution_count": null,
   "id": "881ff53d-c02f-4882-ad9d-2a9f0ca785f7",
   "metadata": {},
   "outputs": [],
   "source": []
  }
 ],
 "metadata": {
  "kernelspec": {
   "display_name": "pyexp310",
   "language": "python",
   "name": "pyexp310"
  },
  "language_info": {
   "codemirror_mode": {
    "name": "ipython",
    "version": 3
   },
   "file_extension": ".py",
   "mimetype": "text/x-python",
   "name": "python",
   "nbconvert_exporter": "python",
   "pygments_lexer": "ipython3",
   "version": "3.10.12"
  }
 },
 "nbformat": 4,
 "nbformat_minor": 5
}
